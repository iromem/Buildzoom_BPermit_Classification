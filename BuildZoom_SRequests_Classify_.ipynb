{
 "cells": [
  {
   "cell_type": "markdown",
   "metadata": {},
   "source": [
    "*** This script runs the previously built permit subtype Naive Bayes models to classify service requests. ***\n",
    "\n",
    "*** Additionally, it also uploads the classification to Buildzoom's database.***\n"
   ]
  },
  {
   "cell_type": "markdown",
   "metadata": {},
   "source": [
    "General declarations, including used libraries, support and plotting packages.\n",
    "Python version 2.7+ must be installed along with the following packages:\n",
    "os (built-in), numpy, pandas, nltk (Natural Language Processing Toolkit), codecs, sklearn (statistical learning package), mpld3, MySQLdb, pylab, csv, string, matplotlib (plotting), seaborn (plotting), pickle (to save clusters and other data objects)."
   ]
  },
  {
   "cell_type": "code",
   "execution_count": 1,
   "metadata": {
    "collapsed": false
   },
   "outputs": [],
   "source": [
    "import numpy as np\n",
    "import pandas as pd\n",
    "import nltk\n",
    "import re\n",
    "import os\n",
    "import codecs\n",
    "from sklearn import feature_extraction\n",
    "import mpld3\n",
    "import MySQLdb\n",
    "import pandas.io.sql as sql\n",
    "import matplotlib.pyplot as plt\n",
    "import pylab as py\n",
    "import csv\n",
    "import string\n",
    "from nltk.stem.snowball import SnowballStemmer\n",
    "import matplotlib.pyplot as plt\n",
    "from sklearn.feature_extraction.text import TfidfVectorizer\n",
    "from sklearn.naive_bayes import MultinomialNB\n",
    "from sklearn.cluster import KMeans\n",
    "from sklearn.externals import joblib\n",
    "from sklearn import metrics\n",
    "from sklearn.cross_validation import train_test_split\n",
    "from pystruct.learners import NSlackSSVM\n",
    "from pystruct.models import MultiLabelClf\n",
    "from collections import defaultdict\n",
    "\n",
    "import seaborn as sns\n",
    "import pickle\n",
    "\n",
    "sns.set(style=\"white\", color_codes=True)\n",
    "\n",
    "import warnings\n",
    "warnings.filterwarnings(\"ignore\")\n",
    "\n",
    "%matplotlib inline\n",
    "\n",
    "stopwords=set(unicode(\"system john american james hbcode thomas david michael robert subtype richard permit building none america rochester william needs brother jessica give like send estimate im youre chat details regarding hi available email call please interested contact looking project need job phone work so some somebody somehow someone something sometime sometimes somewhat somewhere soon sorry specified specify specifying still sub such sup sure t's take taken tell tends th than thank thanks thanx that that's thats the their theirs them themselves then thence there there's thereafter thereby therefore therein theres thereupon these they they'd they'll they're they've think third this thorough thoroughly those though three through throughout thru thus to together too took toward towards tried tries truly try trying twice two un under unfortunately unless unlikely until unto up upon us use used useful uses using usually value various very via viz vs want wants was wasn't way we we'd we'll we're we've welcome well went were weren't what what's whatever when whence whenever where where's whereafter whereas whereby wherein whereupon wherever whether which while whither who who's whoever whole whom whose why will willing wish with within without won't wonder would wouldn't yes yet you you'd you'll you're you've your yours yourself yourselves zero a about above after again against all am an and any are aren't as at be because been before being below between both but by can can't cannot could couldn't did didn't do does doesn't doing don't down during each few for from further had hadn't has hasn't have haven't having he he'd he'll he's her here here's hers herself him himself his how how's i i'd i'll i'm i've if in into is isn't it it's its itself let's me more most mustn't my myself no nor not of off on one once only or other ought our ours ourselves out over own same shan't she she'd she'll she's should shouldn't so some such than that that's the their theirs them themselves then there there's these they they'd they'll they're they've this those through to too under until up very was wasn't we we'd we'll we're we've were weren't what what's when when's where where's which while who who's whom why why's with won't would wouldn't you you'd you'll you're you've your yours yourself yourselves\").split())\n"
   ]
  },
  {
   "cell_type": "markdown",
   "metadata": {},
   "source": [
    "General functions for reading data, doing cluster to keyword mapping and text pre-processing."
   ]
  },
  {
   "cell_type": "code",
   "execution_count": 2,
   "metadata": {
    "collapsed": false
   },
   "outputs": [],
   "source": [
    "# Read Data from BuildZoom service requests\n",
    "def read_c(input_file):\n",
    "    with open(input_file, 'rU') as f:\n",
    "        reader = csv.reader(f,delimiter='\\t')\n",
    "        for row in reader:\n",
    "            text=row\n",
    "    return text\n",
    "\n",
    "# Function to read words associated to permit subtypes\n",
    "# Input: file_name\n",
    "# Output: list of identifier for each trade/permit type (label), list of 'synonym' words for each permit subtype. \n",
    "def read_words(input_file):\n",
    "    label=[]\n",
    "    words=[]\n",
    "    with open(input_file, 'rU') as f:\n",
    "        reader = csv.reader(f,delimiter='\\n')\n",
    "        # For each row in the file, read the job_values and the associated strings. \n",
    "        for row in reader:\n",
    "            row=row[0].split(',')\n",
    "            label.append(row.pop(0))\n",
    "            temp=[]\n",
    "            for x in row:\n",
    "                x=x.lower()\n",
    "                x=x.replace('\"','')\n",
    "                x=x.replace(' ','')\n",
    "                if x != '':\n",
    "                    temp.append(x)\n",
    "            words.append(temp)\n",
    "    return label,words\n",
    "\n",
    "# Function to join text for a given list. \n",
    "# Inputs: list with strings\n",
    "def join_txt(x):\n",
    "    content = ' '.join(filter(None,x))\n",
    "    return content\n",
    "\n",
    "# Text pre-processing function, that also applies the Snowball stemmer to each word\n",
    "# This function's only difference compared to content2tokens is the use of the stemmer. \n",
    "# Filter out spaces, punctuation, unnecessary whitespaces. \n",
    "# Any stop-word is also removed\n",
    "# Additionally, this function also removes any word smaller than 4 characters\n",
    "# Inputs: list with string for each building permit\n",
    "def content2stems(s):\n",
    "    # Initialize Snowball stemmer\n",
    "    stemmer = SnowballStemmer(\"english\")\n",
    "    # Transform all letters to lower-case\n",
    "    content = s.lower()\n",
    "    # Remove periods\n",
    "    content = content.replace('.', ' ')    \n",
    "    # Split words\n",
    "    content = ' '.join(content.split())\n",
    "    # Remove punctuation\n",
    "    for c in content:\n",
    "        if c in string.punctuation or c.isdigit():\n",
    "            content=content.replace(c,\" \")\n",
    "    \n",
    "    # Split words into a list\n",
    "    content = content.split() \n",
    "    # Filter words from the stoplist\n",
    "    content = filter(lambda w: w not in stopwords, content)  \n",
    "    # Filter words smaller than 3 characters\n",
    "    content = filter(lambda w: len(w) > 3, content)\n",
    "    # Apply Snowball stemmer to words\n",
    "    content = [stemmer.stem(t) for t in content]    \n",
    "    return content"
   ]
  },
  {
   "cell_type": "markdown",
   "metadata": {},
   "source": [
    "Read service requests from sql database and build the appropriate text object and save service requests id. Also read the labels for the subtype."
   ]
  },
  {
   "cell_type": "code",
   "execution_count": 3,
   "metadata": {
    "collapsed": false
   },
   "outputs": [],
   "source": [
    "# Host, username, password, database to connect\n",
    "host='db.dev.buildzoom.com'\n",
    "username='new'\n",
    "passwr='bzdb123zoom'\n",
    "db='bzdb'\n",
    "# Fetch a subset of the service request data with status >= 1\n",
    "f = open('s_request_query.txt', 'r')\n",
    "query=f.read()\n",
    "# Open database connection\n",
    "connect = MySQLdb.connect(host,username,passwr,db)\n",
    "s_requests = sql.read_sql(query, connect)\n",
    "# Concatenate the service request text\n",
    "requests_text=s_requests.title+' '+s_requests.description\n",
    "requests_text=map(lambda x: unicode(x,errors='ignore'),requests_text)\n",
    "# Save ids for each service request\n",
    "requests_ids = s_requests.nid\n",
    "# Close connection to database\n",
    "connect.close()\n",
    "# Read building permit subtypes keywords and stem them.\n",
    "keyword_label,keywords=read_words('taxonomy_cluster_keywords.csv')\n",
    "# Turn all label subtypes to lower_case\n",
    "keyword_label=map(lambda x: x.lower(),keyword_label)"
   ]
  },
  {
   "cell_type": "markdown",
   "metadata": {},
   "source": [
    "Read all service requests to be classified from a file, also read the labels for the subtypes.\n",
    "\n",
    "*** Only run this code if you want to work with service requests that were previously saved to a file. ***\n",
    "\n",
    "Note that, in this case, request ids could be missing."
   ]
  },
  {
   "cell_type": "code",
   "execution_count": 5,
   "metadata": {
    "collapsed": false
   },
   "outputs": [],
   "source": [
    "file_name='S_Requests.tsv'\n",
    "requests_text=read_c('./Data/S_Requests.tsv')\n",
    "requests_text=map(lambda x : unicode(x, errors='ignore'),requests_text)\n",
    "\n",
    "# Read building permit subtypes keywords and stem them.\n",
    "keyword_label,keywords=read_words('taxonomy_cluster_keywords.csv')\n",
    "# Turn all label subtypes to lower_case\n",
    "keyword_label=map(lambda x: x.lower(),keyword_label)"
   ]
  },
  {
   "cell_type": "markdown",
   "metadata": {},
   "source": [
    "Open the previously save terms from the vectorization over permit corpus and then build the tf/idf for the classification."
   ]
  },
  {
   "cell_type": "code",
   "execution_count": 4,
   "metadata": {
    "collapsed": false
   },
   "outputs": [],
   "source": [
    "# Open lexicon terms want to use them from a previously saved file.\n",
    "with open('./NB_Classifiers/permit_terms.pickle') as f:\n",
    "    terms= pickle.load(f)\n",
    "\n",
    "terms=terms[0]\n",
    "# Build tf/idf matrix\n",
    "tfidf_vectorizer = TfidfVectorizer(vocabulary=terms, stop_words=stopwords,\n",
    "                                   use_idf=True, tokenizer=content2stems,\n",
    "                                   decode_error='ignore',ngram_range=[1,1])\n",
    "tfidf_matrix = tfidf_vectorizer.fit_transform(requests_text)"
   ]
  },
  {
   "cell_type": "markdown",
   "metadata": {},
   "source": [
    "Run the Naive Bayes_Classifiers to classify the service requests."
   ]
  },
  {
   "cell_type": "code",
   "execution_count": 5,
   "metadata": {
    "collapsed": false
   },
   "outputs": [],
   "source": [
    "classification=[]\n",
    "# Run the Naive Bayes classifier for each subtype\n",
    "for i, key in enumerate(keyword_label):\n",
    "    # Read the NB classifiers\n",
    "    cls=joblib.load('./NB_Classifiers/NB_'+str(key)+'.pkl')\n",
    "    \n",
    "    # Run the classifiers across the service requests\n",
    "    classification.append(cls.predict(tfidf_matrix))\n",
    "    \n",
    "classification=np.array(classification)\n",
    "classification=np.matrix.transpose(classification)\n",
    "classification=pd.DataFrame(classification,columns=keyword_label)"
   ]
  },
  {
   "cell_type": "markdown",
   "metadata": {},
   "source": [
    "Step done just to verify/play around with classification"
   ]
  },
  {
   "cell_type": "code",
   "execution_count": 6,
   "metadata": {
    "collapsed": false
   },
   "outputs": [
    {
     "name": "stdout",
     "output_type": "stream",
     "text": [
      "plumbing\n",
      "plumbing up to code Hi! I am Sergio Quinrtero. I am looking for a licensed professional to do plumbing. I need to get the plumbing up to code, I had people working already,  but nobody finished the job. If you are interested and available for this project, please contact me via phone or use the BuildZoom messaging system. Thanks!\n"
     ]
    }
   ],
   "source": [
    "m=1755\n",
    "t=np.where(classification.iloc[m,:]==1)[0]\n",
    "for key in t:\n",
    "    print(keyword_label[key])\n",
    "    \n",
    "print (requests_text[m])"
   ]
  },
  {
   "cell_type": "markdown",
   "metadata": {},
   "source": [
    "Print out the distribution for the classifications"
   ]
  },
  {
   "cell_type": "code",
   "execution_count": 7,
   "metadata": {
    "collapsed": false
   },
   "outputs": [
    {
     "data": {
      "image/png": "[encoded data removed]",
      "text/plain": [
       "<matplotlib.figure.Figure at 0x107ba6290>"
      ]
     },
     "metadata": {},
     "output_type": "display_data"
    }
   ],
   "source": [
    "# Plot showing the fraction of times each subtype appears in a service request. \n",
    "f, ax = plt.subplots(figsize=(10, 15))\n",
    "subtype_count=pd.DataFrame(classification.sum(axis=0),columns=['Count'])/len(requests_text)\n",
    "subtype_count=subtype_count.sort(['Count'],ascending=False).transpose()\n",
    "sns.barplot(data=subtype_count,orient='h');\n",
    "plt.xlabel('Fraction of service requests')\n",
    "plt.ylabel('Subtype')\n",
    "plt.savefig('./NB_Classifiers/Classification/SRequests_Classification.png')"
   ]
  },
  {
   "cell_type": "markdown",
   "metadata": {},
   "source": [
    "Write the classification dataframe into Buildzoom's sql database."
   ]
  },
  {
   "cell_type": "code",
   "execution_count": 8,
   "metadata": {
    "collapsed": true
   },
   "outputs": [],
   "source": [
    "# Add service request ids to the pandas dataframe\n",
    "classification.insert(0,'service_request_id',requests_ids)\n",
    "# Host, username, password, database to connect\n",
    "host='db.dev.buildzoom.com'\n",
    "username='new'\n",
    "passwr='bzdb123zoom'\n",
    "db='bzdb'\n",
    "# Open connection\n",
    "connect = MySQLdb.connect(host,username,passwr,db)\n",
    "# Write the table\n",
    "classification.to_sql(con=connect, name='service_requests_classification', if_exists='append', \n",
    "                      flavor='mysql', index=False)\n",
    "connect.close()"
   ]
  },
  {
   "cell_type": "code",
   "execution_count": null,
   "metadata": {
    "collapsed": true
   },
   "outputs": [],
   "source": []
  }
 ],
 "metadata": {
  "kernelspec": {
   "display_name": "Python 2",
   "language": "python",
   "name": "python2"
  },
  "language_info": {
   "codemirror_mode": {
    "name": "ipython",
    "version": 2
   },
   "file_extension": ".py",
   "mimetype": "text/x-python",
   "name": "python",
   "nbconvert_exporter": "python",
   "pygments_lexer": "ipython2",
   "version": "2.7.5"
  }
 },
 "nbformat": 4,
 "nbformat_minor": 0
}
